{
 "cells": [
  {
   "cell_type": "code",
   "execution_count": 2,
   "metadata": {
    "collapsed": false
   },
   "outputs": [
    {
     "name": "stdout",
     "output_type": "stream",
     "text": [
      "1.4625856\n"
     ]
    }
   ],
   "source": [
    "#Code to integrate e^(x^2) from 0 to 1.\n",
    "\n",
    "import numpy as np\n",
    "import math\n",
    "repeats = 10000000\n",
    "count=0\n",
    "A=0.0\n",
    "T=0.0\n",
    "P=[0,0]\n",
    "while count < repeats:\n",
    "    P[0]=np.random.uniform(0,1)\n",
    "    #maximum y is e\n",
    "    P[1]=np.random.uniform(0,2.8)\n",
    "    T+=1\n",
    "    if P[1]<=math.exp(P[0]**2): A+=1\n",
    "    count+=1\n",
    "    \n",
    "print 2.8*A/T "
   ]
  },
  {
   "cell_type": "code",
   "execution_count": null,
   "metadata": {
    "collapsed": true
   },
   "outputs": [],
   "source": []
  }
 ],
 "metadata": {
  "kernelspec": {
   "display_name": "Python 2",
   "language": "python",
   "name": "python2"
  },
  "language_info": {
   "codemirror_mode": {
    "name": "ipython",
    "version": 2
   },
   "file_extension": ".py",
   "mimetype": "text/x-python",
   "name": "python",
   "nbconvert_exporter": "python",
   "pygments_lexer": "ipython2",
   "version": "2.7.10"
  }
 },
 "nbformat": 4,
 "nbformat_minor": 1
}
