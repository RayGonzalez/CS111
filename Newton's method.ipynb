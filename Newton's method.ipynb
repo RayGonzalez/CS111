{
 "cells": [
  {
   "cell_type": "code",
   "execution_count": 15,
   "metadata": {
    "collapsed": false
   },
   "outputs": [
    {
     "name": "stdout",
     "output_type": "stream",
     "text": [
      "1.14619322062\n"
     ]
    }
   ],
   "source": [
    "import math\n",
    "def f(x):return math.exp(x)-x -2\n",
    "def d(x): return math.exp(x)-1 \n",
    "x=1 \n",
    "x1=0 \n",
    "a=0\n",
    "while abs(a-x)>.00001:\n",
    "    a=x\n",
    "    x1 = x - f(x)/d(x)\n",
    "    x=x1\n",
    "print x1"
   ]
  },
  {
   "cell_type": "code",
   "execution_count": null,
   "metadata": {
    "collapsed": true
   },
   "outputs": [],
   "source": []
  }
 ],
 "metadata": {
  "kernelspec": {
   "display_name": "Python 2",
   "language": "python",
   "name": "python2"
  },
  "language_info": {
   "codemirror_mode": {
    "name": "ipython",
    "version": 2
   },
   "file_extension": ".py",
   "mimetype": "text/x-python",
   "name": "python",
   "nbconvert_exporter": "python",
   "pygments_lexer": "ipython2",
   "version": "2.7.10"
  }
 },
 "nbformat": 4,
 "nbformat_minor": 1
}
