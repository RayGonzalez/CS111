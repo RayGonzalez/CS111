{
 "cells": [
  {
   "cell_type": "code",
   "execution_count": 4,
   "metadata": {
    "collapsed": false
   },
   "outputs": [
    {
     "name": "stdout",
     "output_type": "stream",
     "text": [
      "c10 131\n",
      "c9 96\n"
     ]
    }
   ],
   "source": [
    "from random import randint\n",
    "c9=0\n",
    "c10=0\n",
    "\n",
    "for i in range (0,1000):\n",
    "    if (randint(1,6))+(randint(1,6))+(randint(1,6))==10:\n",
    "        c10+=1\n",
    "    elif (randint(1,6))+(randint(1,6))+(randint(1,6))==9:\n",
    "        c9+=1\n",
    "    \n",
    "    \n",
    "print \"c10\",c10\n",
    "print \"c9\", c9\n"
   ]
  },
  {
   "cell_type": "code",
   "execution_count": null,
   "metadata": {
    "collapsed": true
   },
   "outputs": [],
   "source": []
  }
 ],
 "metadata": {
  "kernelspec": {
   "display_name": "Python 2",
   "language": "python",
   "name": "python2"
  },
  "language_info": {
   "codemirror_mode": {
    "name": "ipython",
    "version": 2
   },
   "file_extension": ".py",
   "mimetype": "text/x-python",
   "name": "python",
   "nbconvert_exporter": "python",
   "pygments_lexer": "ipython2",
   "version": "2.7.10"
  }
 },
 "nbformat": 4,
 "nbformat_minor": 1
}
