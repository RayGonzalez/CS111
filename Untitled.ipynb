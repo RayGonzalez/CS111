{
 "cells": [
  {
   "cell_type": "code",
   "execution_count": 1,
   "metadata": {
    "collapsed": false
   },
   "outputs": [
    {
     "name": "stdout",
     "output_type": "stream",
     "text": [
      "point 10.0 10.0\n",
      "Emissions:  1.7619871363\n"
     ]
    }
   ],
   "source": [
    "import math\n",
    "import random\n",
    "\n",
    "\n",
    "def f(x,y):  return math.cos(0.5*x)*math.cos(y)+2\n",
    "def dx(x,y): return  -math.sin(0.5*x)*0.5*math.cos(y)\n",
    "def dy(x,y): return  -math.cos(0.5*x)*math.sin(y)\n",
    "\n",
    "precision = 0.000000000000000001\n",
    "\n",
    "a=.0000000000000000000000000010 #this is the step size\n",
    "#x= random.random()\n",
    "#y= random.random()\n",
    "\n",
    "x=10\n",
    "y= 10\n",
    "\n",
    "tempx=0\n",
    "tempy=0\n",
    "\n",
    "while abs(x-tempx)>precision or abs(y-tempy)>precision:\n",
    "    tempx =x\n",
    "    tempy=y\n",
    "    x=x-a*dx(tempx,tempy)\n",
    "    y=y-a*dy(tempx,tempy)\n",
    "    \n",
    "print \"point\", x, y\n",
    "print \"Emissions: \", math.cos(0.5*x)*math.cos(y)+2"
   ]
  },
  {
   "cell_type": "code",
   "execution_count": null,
   "metadata": {
    "collapsed": true
   },
   "outputs": [],
   "source": []
  }
 ],
 "metadata": {
  "kernelspec": {
   "display_name": "Python 2",
   "language": "python",
   "name": "python2"
  },
  "language_info": {
   "codemirror_mode": {
    "name": "ipython",
    "version": 2
   },
   "file_extension": ".py",
   "mimetype": "text/x-python",
   "name": "python",
   "nbconvert_exporter": "python",
   "pygments_lexer": "ipython2",
   "version": "2.7.10"
  }
 },
 "nbformat": 4,
 "nbformat_minor": 1
}
