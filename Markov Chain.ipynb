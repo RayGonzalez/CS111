{
 "cells": [
  {
   "cell_type": "code",
   "execution_count": 2,
   "metadata": {
    "collapsed": false
   },
   "outputs": [
    {
     "name": "stdout",
     "output_type": "stream",
     "text": [
      "[ 0.30769231  0.20512821  0.07692308  0.41025641]\n"
     ]
    }
   ],
   "source": [
    "import numpy as np\n",
    "from discreteMarkovChain import markovChain\n",
    "\n",
    "P = np.array([[0.993,0.003,0,0.004],[0.005,0.994,0.001,0],[0.004,0.004,0.992,0],[0.002,0,0.001,0.997]])\n",
    "mc = markovChain(P)\n",
    "mc.computePi('linear') #We can also use 'power', 'krylov' or 'eigen'\n",
    "print(mc.pi)"
   ]
  },
  {
   "cell_type": "code",
   "execution_count": null,
   "metadata": {
    "collapsed": true
   },
   "outputs": [],
   "source": []
  }
 ],
 "metadata": {
  "kernelspec": {
   "display_name": "Python 2",
   "language": "python",
   "name": "python2"
  },
  "language_info": {
   "codemirror_mode": {
    "name": "ipython",
    "version": 2
   },
   "file_extension": ".py",
   "mimetype": "text/x-python",
   "name": "python",
   "nbconvert_exporter": "python",
   "pygments_lexer": "ipython2",
   "version": "2.7.10"
  }
 },
 "nbformat": 4,
 "nbformat_minor": 1
}
