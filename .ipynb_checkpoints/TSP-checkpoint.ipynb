{
 "cells": [
  {
   "cell_type": "code",
   "execution_count": 7,
   "metadata": {
    "collapsed": false
   },
   "outputs": [
    {
     "name": "stdout",
     "output_type": "stream",
     "text": [
      "1000000\n",
      "['0', 'h']\n",
      "[['a', 14], ['b', 13], ['c', 20], ['d', 22], ['e', 21], ['f', 13], ['0', 28], ['h', 11], ['i', 12]]\n",
      "1000000\n",
      "['0', 'h', 'i']\n",
      "[['a', 22], ['b', 20], ['c', 18], ['d', 17], ['e', 17], ['f', 12], ['g', 11], ['0', 18], ['i', 12]]\n",
      "1000000\n",
      "['0', 'h', 'i', 'g']\n",
      "[['a', 16], ['b', 14], ['c', 12], ['d', 10], ['e', 9], ['0', 24], ['g', 13], ['h', 12], ['i', 27]]\n",
      "1000000\n",
      "['0', 'h', 'i', 'g', 'e']\n",
      "[['a', 15], ['b', 10], ['c', 8], ['0', 30], ['e', 15], ['f', 10], ['g', 22], ['h', 17], ['i', 31]]\n",
      "1000000\n",
      "['0', 'h', 'i', 'g', 'e', 'c']\n",
      "[['a', 6], ['0', 35], ['c', 6], ['d', 10], ['e', 19], ['f', 14], ['g', 13], ['h', 20], ['i', 28]]\n",
      "1000000\n",
      "['0', 'h', 'i', 'g', 'e', 'c', 'a']\n",
      "[['a', 41], ['b', 35], ['c', 32], ['d', 30], ['e', 27], ['f', 24], ['g', 28], ['h', 18], ['i', 20]]\n",
      "1000000\n",
      "['0', 'h', 'i', 'g', 'e', 'c', 'a', 'f']\n",
      "[['a', 20], ['b', 19], ['c', 15], ['d', 15], ['0', 27], ['f', 9], ['g', 21], ['h', 17], ['i', 21]]\n",
      "1000000\n",
      "['0', 'h', 'i', 'g', 'e', 'c', 'a', 'f', 'd']\n",
      "[['a', 10], ['b', 6], ['0', 32], ['d', 8], ['e', 15], ['f', 12], ['g', 20], ['h', 18], ['i', 30]]\n",
      "1000000\n",
      "['0', 'h', 'i', 'g', 'e', 'c', 'a', 'f', 'd', 'b']\n",
      "[['0', 41], ['b', 6], ['c', 10], ['d', 15], ['e', 20], ['f', 16], ['g', 14], ['h', 22], ['i', 30]]\n",
      "['0higecafdb', 109]\n"
     ]
    }
   ],
   "source": [
    "import doctest\n",
    "from itertools import permutations\n",
    "\n",
    "Edges0=[['a',41],['b',35],['c',32],['d',30],['e',27],['f',24],['g',28],['h',18],['i',20]]\n",
    "EdgesA=[['0',41],['b',6],['c',10],['d',15],['e',20],['f',16],['g',14],['h',22],['i',30]]\n",
    "EdgesB=[['a',6],['0',35],['c',6],['d',10],['e',19],['f',14],['g',13],['h',20],['i',28]]\n",
    "EdgesC=[['a',10],['b',6],['0',32],['d',8],['e',15],['f',12],['g',20],['h',18],['i',30]]\n",
    "EdgesD=[['a',15],['b',10],['c',8],['0',30],['e',15],['f',10],['g',22],['h',17],['i',31]]\n",
    "EdgesE=[['a',20],['b',19],['c',15],['d',15],['0',27],['f',9],['g',21],['h',17],['i',21]]\n",
    "EdgesF=[['a',16],['b',14],['c',12],['d',10],['e',9],['0',24],['g',13],['h',12],['i',27]]\n",
    "EdgesG=[['a',14],['b',13],['c',20],['d',22],['e',21],['f',13],['0',28],['h',11],['i',12]]\n",
    "EdgesH=[['a',22],['b',20],['c',18],['d',17],['e',17],['f',12],['g',11],['0',18],['i',12]]\n",
    "EdgesI=[['a',30],['b',28],['c',30],['d',31],['e',21],['f',27],['g',21],['h',12],['0',20]]\n",
    "\n",
    "Connect=[Edges0,EdgesA, EdgesB,EdgesC,EdgesD,EdgesE,EdgesF,EdgesG,EdgesH,EdgesI]\n",
    "\n",
    "def NNA(init,EdgesInit):\n",
    "    #must receive init as a char\n",
    "    visited=[init]\n",
    "\n",
    "    #Init is the list of edges of the first point\n",
    "    point=EdgesInit\n",
    "    #Until circuit is complete\n",
    "    totalCost=0\n",
    "    circuit=init\n",
    "    \n",
    "    while len(visited)<10:\n",
    "        #Find point where its less costly to move\n",
    "        Min=1000000\n",
    "        print Min\n",
    "        Next=''\n",
    "        j=0\n",
    "        for x in range(0,len(EdgesInit)):\n",
    "            \n",
    "\n",
    "            if Min>point[x][1]  and (point[x][0] not in visited): \n",
    "               \n",
    "                Min=point[x][1]\n",
    "                Next = point[x][0][:]\n",
    "                j=x\n",
    "        visited.append(point[j][0])\n",
    "        print visited\n",
    "        #Next is a char, but we need point to be the list of Edges\n",
    "        point= Connect[j][:]      \n",
    "        totalCost+=Min\n",
    "        circuit+=Next\n",
    "        print point\n",
    "    #To finish ciurcuit we go back to the start\n",
    "    \n",
    "    \n",
    "    return [circuit,totalCost]\n",
    "\n",
    "print NNA('0',Edges0)\n",
    "\n",
    "\n"
   ]
  },
  {
   "cell_type": "code",
   "execution_count": null,
   "metadata": {
    "collapsed": true
   },
   "outputs": [],
   "source": []
  }
 ],
 "metadata": {
  "kernelspec": {
   "display_name": "Python 2",
   "language": "python",
   "name": "python2"
  },
  "language_info": {
   "codemirror_mode": {
    "name": "ipython",
    "version": 2
   },
   "file_extension": ".py",
   "mimetype": "text/x-python",
   "name": "python",
   "nbconvert_exporter": "python",
   "pygments_lexer": "ipython2",
   "version": "2.7.10"
  }
 },
 "nbformat": 4,
 "nbformat_minor": 1
}
