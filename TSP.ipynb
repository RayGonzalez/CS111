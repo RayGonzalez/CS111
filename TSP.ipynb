{
 "cells": [
  {
   "cell_type": "code",
   "execution_count": 12,
   "metadata": {
    "collapsed": false
   },
   "outputs": [
    {
     "name": "stdout",
     "output_type": "stream",
     "text": [
      "['0hgiefdcba0', 142]\n",
      "['abcdfehgi0a', 140]\n",
      "['bacdfehgi0b', 138]\n",
      "['cbaghfed0ic', 153]\n",
      "['dcbaghfei0d', 137]\n",
      "['efdcbaghi0e', 123]\n",
      "['fecbaghi0df', 133]\n",
      "['ghfecbad0ig', 145]\n",
      "['hgi0fecbadh', 135]\n",
      "['ihgbacdfe0i', 126]\n"
     ]
    }
   ],
   "source": [
    "import doctest\n",
    "from itertools import permutations\n",
    "\n",
    "Edges0=[['0',0],['a',41],['b',35],['c',32],['d',30],['e',27],['f',24],['g',28],['h',18],['i',20]]\n",
    "EdgesA=[['0',41],['a',0],['b',6],['c',10],['d',15],['e',20],['f',16],['g',14],['h',22],['i',30]]\n",
    "EdgesB=[['0',35],['a',6],['b',0],['c',6],['d',10],['e',19],['f',14],['g',13],['h',20],['i',28]]\n",
    "EdgesC=[['0',32],['a',10],['b',6],['c',0],['d',8],['e',15],['f',12],['g',20],['h',18],['i',30]]\n",
    "EdgesD=[['0',30],['a',15],['b',10],['c',8],['d',0],['e',15],['f',10],['g',22],['h',17],['i',31]]\n",
    "EdgesE=[['0',27],['a',20],['b',19],['c',15],['d',15],['e',0],['f',9],['g',21],['h',17],['i',21]]\n",
    "EdgesF=[['0',24],['a',16],['b',14],['c',12],['d',10],['e',9],['f',0],['g',13],['h',12],['i',27]]\n",
    "EdgesG=[['0',28],['a',14],['b',13],['c',20],['d',22],['e',21],['f',13],['g',0],['h',11],['i',12]]\n",
    "EdgesH=[['0',18],['a',22],['b',20],['c',18],['d',17],['e',17],['f',12],['g',11],['h',0],['i',12]]\n",
    "EdgesI=[['0',20],['a',30],['b',28],['c',30],['d',31],['e',21],['f',27],['g',21],['h',12],['i',0]]\n",
    "\n",
    "Connect=[Edges0,EdgesA, EdgesB,EdgesC,EdgesD,EdgesE,EdgesF,EdgesG,EdgesH,EdgesI]\n",
    "\n",
    "def NNA(init,EdgesInit):\n",
    "    #must receive init as a char\n",
    "    visited=[init]\n",
    "    #Init is the list of edges of the first point\n",
    "    point=EdgesInit\n",
    "    #Until circuit is complete\n",
    "    totalCost=0\n",
    "    circuit=init\n",
    "    \n",
    "    while len(visited)<10:\n",
    "        #Find point where its less costly to move\n",
    "        Min=10000\n",
    "        Next=''\n",
    "        j=0\n",
    "        for x in range(0,len(EdgesInit)):\n",
    "            \n",
    "\n",
    "            if Min>point[x][1]  and (point[x][0] not in visited): \n",
    "               \n",
    "                Min=point[x][1]\n",
    "                Next = point[x][0][:]\n",
    "                j=x\n",
    "        visited.append(point[j][0])\n",
    "        #Next is a char, but we need point to be the list of Edges\n",
    "        point= Connect[j][:]      \n",
    "        totalCost+=Min\n",
    "        circuit+=Next\n",
    "    #To finish ciurcuit we go back to the start\n",
    "    for k in range (0,len(point)):\n",
    "        if point[k][0]==init:\n",
    "            circuit+=init\n",
    "            totalCost+=point[k][1]\n",
    "    return [circuit,totalCost]\n",
    "\n",
    "print NNA('0',Edges0)\n",
    "print NNA('a',EdgesA)\n",
    "print NNA('b',EdgesB)\n",
    "print NNA('c',EdgesC)\n",
    "print NNA('d',EdgesD)\n",
    "print NNA('e',EdgesE)\n",
    "print NNA('f',EdgesF)\n",
    "print NNA('g',EdgesG)\n",
    "print NNA('h',EdgesH)\n",
    "print NNA('i',EdgesI)\n",
    "\n",
    "\n",
    "\n",
    "\n",
    "\n",
    "\n",
    "\n",
    "\n"
   ]
  },
  {
   "cell_type": "code",
   "execution_count": null,
   "metadata": {
    "collapsed": true
   },
   "outputs": [],
   "source": []
  }
 ],
 "metadata": {
  "kernelspec": {
   "display_name": "Python 2",
   "language": "python",
   "name": "python2"
  },
  "language_info": {
   "codemirror_mode": {
    "name": "ipython",
    "version": 2
   },
   "file_extension": ".py",
   "mimetype": "text/x-python",
   "name": "python",
   "nbconvert_exporter": "python",
   "pygments_lexer": "ipython2",
   "version": "2.7.10"
  }
 },
 "nbformat": 4,
 "nbformat_minor": 1
}
